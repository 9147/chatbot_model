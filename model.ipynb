{
 "cells": [
  {
   "cell_type": "code",
   "execution_count": 1,
   "id": "cf281355-4637-4a1e-8d78-76742431d8aa",
   "metadata": {},
   "outputs": [],
   "source": [
    "import torch\n",
    "from transformers import BertForQuestionAnswering, BertTokenizer"
   ]
  },
  {
   "cell_type": "code",
   "execution_count": 6,
   "id": "590a6558-488d-4f35-8910-33c838bbb277",
   "metadata": {},
   "outputs": [
    {
     "name": "stderr",
     "output_type": "stream",
     "text": [
      "Some weights of the model checkpoint at bert-large-uncased-whole-word-masking-finetuned-squad were not used when initializing BertForQuestionAnswering: ['bert.pooler.dense.bias', 'bert.pooler.dense.weight']\n",
      "- This IS expected if you are initializing BertForQuestionAnswering from the checkpoint of a model trained on another task or with another architecture (e.g. initializing a BertForSequenceClassification model from a BertForPreTraining model).\n",
      "- This IS NOT expected if you are initializing BertForQuestionAnswering from the checkpoint of a model that you expect to be exactly identical (initializing a BertForSequenceClassification model from a BertForSequenceClassification model).\n"
     ]
    }
   ],
   "source": [
    "\n",
    "model = BertForQuestionAnswering.from_pretrained('bert-large-uncased-whole-word-masking-finetuned-squad')\n"
   ]
  },
  {
   "cell_type": "code",
   "execution_count": 7,
   "id": "3e12d72a-3124-4cb0-8f76-ab1c09306b29",
   "metadata": {},
   "outputs": [],
   "source": [
    "tokenizer = BertTokenizer.from_pretrained('bert-large-uncased-whole-word-masking-finetuned-squad')"
   ]
  },
  {
   "cell_type": "code",
   "execution_count": 9,
   "id": "525dc91a-7551-4109-9e95-4301a064e520",
   "metadata": {},
   "outputs": [
    {
     "name": "stderr",
     "output_type": "stream",
     "text": [
      "[nltk_data] Error loading punkt: <urlopen error [WinError 10060] A\n",
      "[nltk_data]     connection attempt failed because the connected party\n",
      "[nltk_data]     did not properly respond after a period of time, or\n",
      "[nltk_data]     established connection failed because connected host\n",
      "[nltk_data]     has failed to respond>\n"
     ]
    }
   ],
   "source": [
    "from PyPDF2 import PdfReader\n",
    "import nltk\n",
    "nltk.download('punkt')\n",
    "\n",
    "# Extracting Text from PDF\n",
    "def extract_text_from_pdf(file_path):\n",
    "    with open(file_path, 'rb') as file:\n",
    "        pdf = PdfReader(file)\n",
    "        text = \" \".join(page.extract_text() for page in pdf.pages)\n",
    "    return text"
   ]
  },
  {
   "cell_type": "code",
   "execution_count": 8,
   "id": "cd0bfa18-2bd0-4f06-ad51-a2b641dbd45d",
   "metadata": {},
   "outputs": [
    {
     "ename": "FileNotFoundError",
     "evalue": "[Errno 2] No such file or directory: 'CollieryControlOorder2000.pdf'",
     "output_type": "error",
     "traceback": [
      "\u001b[1;31m---------------------------------------------------------------------------\u001b[0m",
      "\u001b[1;31mFileNotFoundError\u001b[0m                         Traceback (most recent call last)",
      "Cell \u001b[1;32mIn[8], line 1\u001b[0m\n\u001b[1;32m----> 1\u001b[0m text \u001b[38;5;241m=\u001b[39m \u001b[43mextract_text_from_pdf\u001b[49m\u001b[43m(\u001b[49m\u001b[38;5;124;43m\"\u001b[39;49m\u001b[38;5;124;43mCollieryControlOorder2000.pdf\u001b[39;49m\u001b[38;5;124;43m\"\u001b[39;49m\u001b[43m)\u001b[49m\n",
      "Cell \u001b[1;32mIn[4], line 7\u001b[0m, in \u001b[0;36mextract_text_from_pdf\u001b[1;34m(file_path)\u001b[0m\n\u001b[0;32m      6\u001b[0m \u001b[38;5;28;01mdef\u001b[39;00m \u001b[38;5;21mextract_text_from_pdf\u001b[39m(file_path):\n\u001b[1;32m----> 7\u001b[0m     \u001b[38;5;28;01mwith\u001b[39;00m \u001b[38;5;28;43mopen\u001b[39;49m\u001b[43m(\u001b[49m\u001b[43mfile_path\u001b[49m\u001b[43m,\u001b[49m\u001b[43m \u001b[49m\u001b[38;5;124;43m'\u001b[39;49m\u001b[38;5;124;43mrb\u001b[39;49m\u001b[38;5;124;43m'\u001b[39;49m\u001b[43m)\u001b[49m \u001b[38;5;28;01mas\u001b[39;00m file:\n\u001b[0;32m      8\u001b[0m         pdf \u001b[38;5;241m=\u001b[39m PdfReader(file)\n\u001b[0;32m      9\u001b[0m         text \u001b[38;5;241m=\u001b[39m \u001b[38;5;124m\"\u001b[39m\u001b[38;5;124m \u001b[39m\u001b[38;5;124m\"\u001b[39m\u001b[38;5;241m.\u001b[39mjoin(page\u001b[38;5;241m.\u001b[39mextract_text() \u001b[38;5;28;01mfor\u001b[39;00m page \u001b[38;5;129;01min\u001b[39;00m pdf\u001b[38;5;241m.\u001b[39mpages)\n",
      "File \u001b[1;32m~\\AppData\\Local\\Programs\\Python\\Python311\\Lib\\site-packages\\IPython\\core\\interactiveshell.py:286\u001b[0m, in \u001b[0;36m_modified_open\u001b[1;34m(file, *args, **kwargs)\u001b[0m\n\u001b[0;32m    279\u001b[0m \u001b[38;5;28;01mif\u001b[39;00m file \u001b[38;5;129;01min\u001b[39;00m {\u001b[38;5;241m0\u001b[39m, \u001b[38;5;241m1\u001b[39m, \u001b[38;5;241m2\u001b[39m}:\n\u001b[0;32m    280\u001b[0m     \u001b[38;5;28;01mraise\u001b[39;00m \u001b[38;5;167;01mValueError\u001b[39;00m(\n\u001b[0;32m    281\u001b[0m         \u001b[38;5;124mf\u001b[39m\u001b[38;5;124m\"\u001b[39m\u001b[38;5;124mIPython won\u001b[39m\u001b[38;5;124m'\u001b[39m\u001b[38;5;124mt let you open fd=\u001b[39m\u001b[38;5;132;01m{\u001b[39;00mfile\u001b[38;5;132;01m}\u001b[39;00m\u001b[38;5;124m by default \u001b[39m\u001b[38;5;124m\"\u001b[39m\n\u001b[0;32m    282\u001b[0m         \u001b[38;5;124m\"\u001b[39m\u001b[38;5;124mas it is likely to crash IPython. If you know what you are doing, \u001b[39m\u001b[38;5;124m\"\u001b[39m\n\u001b[0;32m    283\u001b[0m         \u001b[38;5;124m\"\u001b[39m\u001b[38;5;124myou can use builtins\u001b[39m\u001b[38;5;124m'\u001b[39m\u001b[38;5;124m open.\u001b[39m\u001b[38;5;124m\"\u001b[39m\n\u001b[0;32m    284\u001b[0m     )\n\u001b[1;32m--> 286\u001b[0m \u001b[38;5;28;01mreturn\u001b[39;00m \u001b[43mio_open\u001b[49m\u001b[43m(\u001b[49m\u001b[43mfile\u001b[49m\u001b[43m,\u001b[49m\u001b[43m \u001b[49m\u001b[38;5;241;43m*\u001b[39;49m\u001b[43margs\u001b[49m\u001b[43m,\u001b[49m\u001b[43m \u001b[49m\u001b[38;5;241;43m*\u001b[39;49m\u001b[38;5;241;43m*\u001b[39;49m\u001b[43mkwargs\u001b[49m\u001b[43m)\u001b[49m\n",
      "\u001b[1;31mFileNotFoundError\u001b[0m: [Errno 2] No such file or directory: 'CollieryControlOorder2000.pdf'"
     ]
    }
   ],
   "source": [
    "text = extract_text_from_pdf(\"CollieryControlOorder2000.pdf\")"
   ]
  },
  {
   "cell_type": "code",
   "execution_count": null,
   "id": "57141d10-e148-46a7-8c1c-a9db4de6300e",
   "metadata": {},
   "outputs": [],
   "source": [
    "# Step 1: Remove special characters and symbols\n",
    "cleaned_text = ''.join(e for e in text if (e.isalnum() or e.isspace() or e in ['.', ',', ';', ':', '(', ')']))\n",
    "\n",
    "# Step 2: Remove extra spaces and line breaks\n",
    "cleaned_text = ' '.join(cleaned_text.split())\n",
    "\n",
    "# Step 3: Join lines\n",
    "cleaned_text = cleaned_text.replace('\\n', ' ')"
   ]
  },
  {
   "cell_type": "code",
   "execution_count": null,
   "id": "972e9d30-f22f-4b1f-90b6-5a16d132a13e",
   "metadata": {},
   "outputs": [],
   "source": [
    "def process_text_chunk(chunk_text, question, max_seq_length=512):\n",
    "    tokenized_question = tokenizer.encode(question, add_special_tokens=True, return_tensors=\"pt\")\n",
    "    \n",
    "    all_answers = []\n",
    "    print(\"len=\",len(chunk_text))\n",
    "    for start in range(0, len(chunk_text), max_seq_length):\n",
    "        end = start + max_seq_length\n",
    "        chunk = chunk_text[start:end]\n",
    "        print(\"count: \",start)\n",
    "        tokenized_chunk = tokenizer.encode(chunk, add_special_tokens=True, return_tensors=\"pt\")\n",
    "        \n",
    "        input_ids = torch.cat([tokenized_question, tokenized_chunk], dim=1)\n",
    "        \n",
    "        output = model(input_ids)\n",
    "        answer_start = torch.argmax(output.start_logits)\n",
    "        answer_end = torch.argmax(output.end_logits) + 1\n",
    "        answer = tokenizer.convert_tokens_to_string(tokenizer.convert_ids_to_tokens(input_ids[0][answer_start:answer_end]))\n",
    "        \n",
    "        # Compute confidence level based on the sum of start and end logits\n",
    "        confidence = output.start_logits[0][answer_start] + output.end_logits[0][answer_end - 1]\n",
    "        \n",
    "        all_answers.append({\"answer\": answer, \"confidence\": confidence.item()})\n",
    "    \n",
    "    return all_answers"
   ]
  },
  {
   "cell_type": "code",
   "execution_count": null,
   "id": "740737ed-5591-43e7-89bc-fd57efb556b8",
   "metadata": {},
   "outputs": [],
   "source": [
    "# Example chunk text and question\n",
    "chunk_text = cleaned_text\n",
    "question = \"How can a colliery owner obtain permission to open a coal mine, seam, or section of a seam?\"\n",
    "\n",
    "# Process the chunk with the question\n",
    "answers = process_text_chunk(chunk_text, question)\n",
    "\n",
    "# Sort answers by confidence level (higher confidence first)\n",
    "answers.sort(key=lambda x: x[\"confidence\"], reverse=True)\n",
    "\n",
    "# Print answers with confidence levels\n",
    "for i, answer in enumerate(answers):\n",
    "    print(f\"Answer {i + 1}: {answer['answer']} (Confidence: {answer['confidence']:.2f})\")"
   ]
  },
  {
   "cell_type": "code",
   "execution_count": 10,
   "id": "65ae3de8-b3ac-4a4a-b4fa-ebdff2b3848f",
   "metadata": {},
   "outputs": [
    {
     "name": "stderr",
     "output_type": "stream",
     "text": [
      "[nltk_data] Error loading punkt: <urlopen error [WinError 10060] A\n",
      "[nltk_data]     connection attempt failed because the connected party\n",
      "[nltk_data]     did not properly respond after a period of time, or\n",
      "[nltk_data]     established connection failed because connected host\n",
      "[nltk_data]     has failed to respond>\n",
      "Some weights of the model checkpoint at bert-large-uncased-whole-word-masking-finetuned-squad were not used when initializing BertForQuestionAnswering: ['bert.pooler.dense.bias', 'bert.pooler.dense.weight']\n",
      "- This IS expected if you are initializing BertForQuestionAnswering from the checkpoint of a model trained on another task or with another architecture (e.g. initializing a BertForSequenceClassification model from a BertForPreTraining model).\n",
      "- This IS NOT expected if you are initializing BertForQuestionAnswering from the checkpoint of a model that you expect to be exactly identical (initializing a BertForSequenceClassification model from a BertForSequenceClassification model).\n"
     ]
    },
    {
     "name": "stdout",
     "output_type": "stream",
     "text": [
      "len= 8175\n",
      "count:  0\n",
      "count:  512\n",
      "count:  1024\n",
      "count:  1536\n",
      "count:  2048\n",
      "count:  2560\n",
      "count:  3072\n",
      "count:  3584\n",
      "count:  4096\n",
      "count:  4608\n",
      "count:  5120\n",
      "count:  5632\n",
      "count:  6144\n",
      "count:  6656\n",
      "count:  7168\n",
      "count:  7680\n",
      "Answer 1: in writing of the central government (Confidence: 9.41)\n",
      "Answer 2: power to inspect collieries (Confidence: 5.65)\n",
      "Answer 3: require any owner or agent or manager of a colliery to give any information in his possession (Confidence: 5.52)\n",
      "Answer 4: in accordance with the procedure specified in subclause ( 1 ) (Confidence: 4.89)\n",
      "Answer 5: cause the owner , agent or manager of a colliery or any person engaged in or incharge of the loading of coal in wagons , trolleys or trucks in a colliery (Confidence: 4.56)\n",
      "Answer 6: declaration of grades of coal , the same may be referred to the coal controller (Confidence: 4.55)\n",
      "Answer 7: without the prior permission in writing of the central government (Confidence: 4.45)\n",
      "Answer 8: the owner , agent or manager of a colliery shall declare the classes (Confidence: 3.24)\n",
      "Answer 9: revise the grade as per the directions issued by the coal controller (Confidence: 2.95)\n",
      "Answer 10: directions to regulate the disposal of coal stocks (Confidence: 2.74)\n",
      "Answer 11: by notification in the official gazette (Confidence: 2.44)\n",
      "Answer 12: detain the wagons , trolleys or trucks at the colliery or weighbridge for adjustment of loading after inspection ; and ( c ) return the wagons , trolleys or trucks to the colliery from weighbridge for unloading and reloading with the specified quantity and quality of coal . 8 . power to prohibit or limit the mining or production of coal . the central government may issue such directions as it may deem fit to any colliery page 2 colliery control order (Confidence: 2.41)\n",
      "Answer 13: in exercise of the powers conferred by section 3 read with section 5 of the essential commodities act , 1955 (Confidence: 2.24)\n",
      "Answer 14:  (Confidence: 0.48)\n",
      "Answer 15: colliery control order , 2000 (Confidence: -0.44)\n",
      "Answer 16: a plant for the production of coke or for the washing of coal (Confidence: -0.62)\n"
     ]
    }
   ],
   "source": [
    "import torch\n",
    "from transformers import BertForQuestionAnswering, BertTokenizer\n",
    "from PyPDF2 import PdfReader\n",
    "import nltk\n",
    "nltk.download('punkt')\n",
    "\n",
    "model = BertForQuestionAnswering.from_pretrained('bert-large-uncased-whole-word-masking-finetuned-squad')\n",
    "tokenizer = BertTokenizer.from_pretrained('bert-large-uncased-whole-word-masking-finetuned-squad')\n",
    "\n",
    "\n",
    "\n",
    "# Extracting Text from PDF\n",
    "def extract_text_from_pdf(file_path):\n",
    "    with open(file_path, 'rb') as file:\n",
    "        pdf = PdfReader(file)\n",
    "        text = \" \".join(page.extract_text() for page in pdf.pages)\n",
    "    return text\n",
    "\n",
    "text = extract_text_from_pdf(\"CollieryControlOorder2000.pdf\")\n",
    "\n",
    "# Step 1: Remove special characters and symbols\n",
    "cleaned_text = ''.join(e for e in text if (e.isalnum() or e.isspace() or e in ['.', ',', ';', ':', '(', ')']))\n",
    "\n",
    "# Step 2: Remove extra spaces and line breaks\n",
    "cleaned_text = ' '.join(cleaned_text.split())\n",
    "\n",
    "# Step 3: Join lines\n",
    "cleaned_text = cleaned_text.replace('\\n', ' ')\n",
    "\n",
    "\n",
    "def process_text_chunk(chunk_text, question, max_seq_length=512):\n",
    "    tokenized_question = tokenizer.encode(question, add_special_tokens=True, return_tensors=\"pt\")\n",
    "\n",
    "    all_answers = []\n",
    "    print(\"len=\", len(chunk_text))\n",
    "    for start in range(0, len(chunk_text), max_seq_length):\n",
    "        end = start + max_seq_length\n",
    "        chunk = chunk_text[start:end]\n",
    "        print(\"count: \", start)\n",
    "        tokenized_chunk = tokenizer.encode(chunk, add_special_tokens=True, return_tensors=\"pt\")\n",
    "\n",
    "        input_ids = torch.cat([tokenized_question, tokenized_chunk], dim=1)\n",
    "\n",
    "        output = model(input_ids)\n",
    "        answer_start = torch.argmax(output.start_logits)\n",
    "        answer_end = torch.argmax(output.end_logits) + 1\n",
    "        answer = tokenizer.convert_tokens_to_string(\n",
    "            tokenizer.convert_ids_to_tokens(input_ids[0][answer_start:answer_end]))\n",
    "\n",
    "        # Compute confidence level based on the sum of start and end logits\n",
    "        confidence = output.start_logits[0][answer_start] + output.end_logits[0][answer_end - 1]\n",
    "\n",
    "        all_answers.append({\"answer\": answer, \"confidence\": confidence.item()})\n",
    "\n",
    "    return all_answers\n",
    "\n",
    "\n",
    "# Example chunk text and question\n",
    "chunk_text = cleaned_text\n",
    "question = \"How can a colliery owner obtain permission to open a coal mine, seam, or section of a seam?\"\n",
    "\n",
    "# Process the chunk with the question\n",
    "answers = process_text_chunk(chunk_text, question)\n",
    "\n",
    "# Sort answers by confidence level (higher confidence first)\n",
    "answers.sort(key=lambda x: x[\"confidence\"], reverse=True)\n",
    "\n",
    "# Print answers with confidence levels\n",
    "for i, answer in enumerate(answers):\n",
    "    print(f\"Answer {i + 1}: {answer['answer']} (Confidence: {answer['confidence']:.2f})\")\n",
    "    "
   ]
  },
  {
   "cell_type": "code",
   "execution_count": null,
   "id": "46f260e7-4274-42f0-9011-e57f58bd3298",
   "metadata": {},
   "outputs": [],
   "source": []
  }
 ],
 "metadata": {
  "kernelspec": {
   "display_name": "Python 3 (ipykernel)",
   "language": "python",
   "name": "python3"
  },
  "language_info": {
   "codemirror_mode": {
    "name": "ipython",
    "version": 3
   },
   "file_extension": ".py",
   "mimetype": "text/x-python",
   "name": "python",
   "nbconvert_exporter": "python",
   "pygments_lexer": "ipython3",
   "version": "3.11.5"
  }
 },
 "nbformat": 4,
 "nbformat_minor": 5
}
