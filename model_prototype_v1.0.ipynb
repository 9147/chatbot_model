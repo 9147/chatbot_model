{
 "cells": [
  {
   "cell_type": "code",
   "execution_count": 1,
   "id": "cf281355-4637-4a1e-8d78-76742431d8aa",
   "metadata": {},
   "outputs": [],
   "source": [
    "import torch\n",
    "from transformers import BertForQuestionAnswering, BertTokenizer"
   ]
  },
  {
   "cell_type": "code",
   "execution_count": 2,
   "id": "590a6558-488d-4f35-8910-33c838bbb277",
   "metadata": {},
   "outputs": [
    {
     "name": "stderr",
     "output_type": "stream",
     "text": [
      "Some weights of the model checkpoint at bert-large-uncased-whole-word-masking-finetuned-squad were not used when initializing BertForQuestionAnswering: ['bert.pooler.dense.weight', 'bert.pooler.dense.bias']\n",
      "- This IS expected if you are initializing BertForQuestionAnswering from the checkpoint of a model trained on another task or with another architecture (e.g. initializing a BertForSequenceClassification model from a BertForPreTraining model).\n",
      "- This IS NOT expected if you are initializing BertForQuestionAnswering from the checkpoint of a model that you expect to be exactly identical (initializing a BertForSequenceClassification model from a BertForSequenceClassification model).\n"
     ]
    }
   ],
   "source": [
    "\n",
    "model = BertForQuestionAnswering.from_pretrained('bert-large-uncased-whole-word-masking-finetuned-squad')\n"
   ]
  },
  {
   "cell_type": "code",
   "execution_count": 3,
   "id": "3e12d72a-3124-4cb0-8f76-ab1c09306b29",
   "metadata": {},
   "outputs": [],
   "source": [
    "tokenizer = BertTokenizer.from_pretrained('bert-large-uncased-whole-word-masking-finetuned-squad')"
   ]
  },
  {
   "cell_type": "code",
   "execution_count": 4,
   "id": "525dc91a-7551-4109-9e95-4301a064e520",
   "metadata": {},
   "outputs": [
    {
     "name": "stderr",
     "output_type": "stream",
     "text": [
      "[nltk_data] Downloading package punkt to\n",
      "[nltk_data]     C:\\Users\\ASUS\\AppData\\Roaming\\nltk_data...\n",
      "[nltk_data]   Package punkt is already up-to-date!\n"
     ]
    }
   ],
   "source": [
    "from PyPDF2 import PdfReader\n",
    "import nltk\n",
    "nltk.download('punkt')\n",
    "\n",
    "# Extracting Text from PDF\n",
    "def extract_text_from_pdf(file_path):\n",
    "    with open(file_path, 'rb') as file:\n",
    "        pdf = PdfReader(file)\n",
    "        text = \" \".join(page.extract_text() for page in pdf.pages)\n",
    "    return text"
   ]
  },
  {
   "cell_type": "code",
   "execution_count": 5,
   "id": "cd0bfa18-2bd0-4f06-ad51-a2b641dbd45d",
   "metadata": {},
   "outputs": [],
   "source": [
    "text = extract_text_from_pdf(\"CollieryControlOorder2000.pdf\")"
   ]
  },
  {
   "cell_type": "code",
   "execution_count": 6,
   "id": "57141d10-e148-46a7-8c1c-a9db4de6300e",
   "metadata": {},
   "outputs": [],
   "source": [
    "# Step 1: Remove special characters and symbols\n",
    "cleaned_text = ''.join(e for e in text if (e.isalnum() or e.isspace() or e in ['.', ',', ';', ':', '(', ')']))\n",
    "\n",
    "# Step 2: Remove extra spaces and line breaks\n",
    "cleaned_text = ' '.join(cleaned_text.split())\n",
    "\n",
    "# Step 3: Join lines\n",
    "cleaned_text = cleaned_text.replace('\\n', ' ')"
   ]
  },
  {
   "cell_type": "code",
   "execution_count": 7,
   "id": "b8f3963d-5d7e-465e-8426-7a0fc3056821",
   "metadata": {},
   "outputs": [
    {
     "data": {
      "text/plain": [
       "'Colliery Control Order COLLIERY CONTROL ORDER, 2000 In exercise of the powers conferred by section 3 read with section 5 of the Essential Commodities Act, 1955 (10 of 1955) and in supersession of the Colliery Control Order, 1945, except as respects things done or omitted to be done before such supersession, the Government of India has issued a Gazette Notification on 1.1.2000 to publish the Colliery Control Order, 2000. The content of the Colliery Control Order, 2000 is given below. 1. Short title and commencement. (1) This Order may be called the Colliery Control Order, 2000. (2) It shall come into force on the 1st day of January, 2000. 2. Definitions. In this Order, unless there is anything repugnant in the subject or context, (a) coal includes anthracite, bituminous coal, lignite, peat and any other form of carbonaceous matter sold or marketed as coal and also coke; (b) Coal Controller means the person appointed as such by the Central Government under the provisions of the Coal Controllers Organisation (Group A Posts) Recruitment Rules, 1986; (c) colliery means any mine or open working where winning or extraction of coal is the principal object of the mining, quarrying or any other operation carried on therein, and includes a plant for the production of coke or for the washing of coal; (d) disposal includes agreeing or offering to dispose of, and the disposal of ownership or any proprietary interest, the right of possession and possession whether or not accompanied by any disposal of ownership or of any proprietary, interest or of the right to possession; (e) agent, manager and owner when used in relation to a colliery shall have the meanings respectively assigned to them in the Mines Act,1952; (f) size when used in relation to coal shall have the same specification as given, from time to time, by the Bureau of Indian Standards in their specification number IS:4371979. 3. Categorisation of coal. The Central Government may, by notification in the Official Gazette, prescribe the classes, grades and sizes into which coal may be categorised and the specifications for each such class, grade or size of coal. 4. Procedure for categorisation of coal. (1) On the basis of the categorisation notified by the Central Government under clause 3, the Coal Controller shall lay down the procedure and method of sampling and analysis of coal for the purpose of declaration and maintenance of grades of coal mined in a colliery. Page 1 Colliery Control Order (2) The owner, agent or manager of a colliery shall declare the classes, grades or sizes of the coal of any seam or section of a seam in a colliery in accordance with the procedure specified in subclause (1). (3) The owner, agent or manager of the colliery shall allow the inspection of the colliery undertaken by the Coal Controller or any officer authorised by him in this regard so as to ensure the correctness of the class, grade or size declared. During inspection if the Coal Controller or the officer authorised by him decides to draw sample, the owner, agent or manager of the colliery shall provide all reasonable facilities and assistance for drawing such sample. (4) If after inspection or from the sample drawn, the Coal Controller is satisfied that the grade as declared by the owner, agent or the manager of the colliery does not conform to the grade notified under clause 3, the owner, agent or manager of the colliery shall be bound to revise the grade as per the directions issued by the Coal Controller. (5) If any dispute arises between a consumer and a owner of a colliery regarding the declaration of grades of coal, the same may be referred to the Coal Controller whose decision shall be binding on the owner of the colliery. A memorandum of reference to the Coal Controller regarding such dispute shall be accompanied by a fee of rupees two thousand and five hundred and in such manner as may be specified by the Coal Controller, from time to time. 5. Submission of returns and information to Coal Controller. Every owner of a colliery and every person engaged in the business of production, supply and distribution of, or trade and commerce in coal, on being directed to do so by the Coal Controller shall submit such returns and other information, within such time, as may be specified in the direction. 6. Directions to regulate the disposal of coal stocks. The Central Government may, from time to time, issue such directions as it may deem fit to any owner of a colliery regulating the disposal of stocks of coal or of the expected output of coal in the colliery during any period. 7. Power of the Coal Controller for quality surveillance. The Coal Controller or any other officer authorised by him in writing shall be competent to. (a) cause the owner, agent or manager of a colliery or any person engaged in or incharge of the loading of coal in wagons, trolleys or trucks in a colliery, to adjust the loading according to the procedure laid down by the Coal Controller regarding grades and size of coal and to remove impurities like shales and stones from the wagons, trolleys or trucks loaded with coal; (b) detain the wagons, trolleys or trucks at the colliery or weighbridge for adjustment of loading after inspection; and (c) return the wagons, trolleys or trucks to the colliery from weighbridge for unloading and reloading with the specified quantity and quality of coal. 8. Power to prohibit or limit the mining or production of coal. The Central Government may issue such directions as it may deem fit to any colliery Page 2 Colliery Control Order owner prohibiting or limiting the mining or production of any grade of coal and the colliery owner shall comply with such directions. 9.Requirement of prior permission to open a coal mine, seam or section of a seam. (1) No owner of a colliery shall open a coal mine, seam or a section of a seam without the prior permission in writing of the Central Government. (2) No owner of a colliery shall also commence mining operations in a colliery or seam or a section of a seam, in which the mining operation has been discontinued for a period exceeding one hundred and eighty days, without the prior permission in writing of the Central Government. 10. Notice of suspension or closure. If the mining operations in a coal mine or seam or a section of a seam is suspended or closed temporarily or permanently, as the case may be, for any reason whatsoever, then, a notice of such suspension or closure shall be given by the owner, agent or manager of the colliery within a period of thirty days from the date of such suspension or closure to the Coal Controller. 11. Power to restrict subdivision of a coal mine. No owner of a colliery or a group of collieries which has been permitted under clause 9 to work as a single mining unit or which has been working as a single unit at the time of commencement of this order, shall be allowed to subdivide his mining unit or to work as a separate unit without the prior permission of the Central Government. 12. Power to inspect collieries. The Coal Controller or any other Officer authorised by him in writing , may with a view to securing compliance of this Order, (i) require any owner or agent or manager of a colliery to give any information in his possession relating to the production of coal in the coal mine or seam or section of a seam showing full boundaries of the leasehold area and plan of abandoned area, flooded area and area which has been or is on fire, (ii) ask for production of any document, register and working plan, (iii) inspect any mine plan in the possession of owner or agent or manager of a colliery, and (iv) enter and inspect any colliery. 13. Delegation of powers to Coal Controller. The powers of the Central Government specified under clauses 6, 9, and 11 may be delegated by notification in the Official Gazette to the Coal Controller. 14. Power to exempt. Notwithstanding anything contained in this Order, the Central Government may, if it deems proper for avoiding any hardship or for any other just and sufficient reason, by notification in the Official Gazette, exempt any colliery owner or any class or category of person. Page 3'"
      ]
     },
     "execution_count": 7,
     "metadata": {},
     "output_type": "execute_result"
    }
   ],
   "source": [
    "cleaned_text"
   ]
  },
  {
   "cell_type": "code",
   "execution_count": 8,
   "id": "972e9d30-f22f-4b1f-90b6-5a16d132a13e",
   "metadata": {},
   "outputs": [],
   "source": [
    "def process_text_chunk(chunk_text, question, max_seq_length=512):\n",
    "    tokenized_question = tokenizer.encode(question, add_special_tokens=True, return_tensors=\"pt\")\n",
    "    \n",
    "    all_answers = []\n",
    "    print(\"len=\",len(chunk_text))\n",
    "    for start in range(0, len(chunk_text), max_seq_length):\n",
    "        end = start + max_seq_length\n",
    "        chunk = chunk_text[start:end]\n",
    "        print(\"count: \",start)\n",
    "        tokenized_chunk = tokenizer.encode(chunk, add_special_tokens=True, return_tensors=\"pt\")\n",
    "        \n",
    "        input_ids = torch.cat([tokenized_question, tokenized_chunk], dim=1)\n",
    "        \n",
    "        output = model(input_ids)\n",
    "        answer_start = torch.argmax(output.start_logits)\n",
    "        answer_end = torch.argmax(output.end_logits) + 1\n",
    "        answer = tokenizer.convert_tokens_to_string(tokenizer.convert_ids_to_tokens(input_ids[0][answer_start:answer_end]))\n",
    "        \n",
    "        # Compute confidence level based on the sum of start and end logits\n",
    "        confidence = output.start_logits[0][answer_start] + output.end_logits[0][answer_end - 1]\n",
    "        \n",
    "        all_answers.append({\"answer\": answer, \"confidence\": confidence.item()})\n",
    "    \n",
    "    return all_answers"
   ]
  },
  {
   "cell_type": "code",
   "execution_count": 9,
   "id": "740737ed-5591-43e7-89bc-fd57efb556b8",
   "metadata": {},
   "outputs": [
    {
     "name": "stdout",
     "output_type": "stream",
     "text": [
      "len= 8175\n",
      "count:  0\n",
      "count:  512\n",
      "count:  1024\n",
      "count:  1536\n",
      "count:  2048\n",
      "count:  2560\n",
      "count:  3072\n",
      "count:  3584\n",
      "count:  4096\n",
      "count:  4608\n",
      "count:  5120\n",
      "count:  5632\n",
      "count:  6144\n",
      "count:  6656\n",
      "count:  7168\n",
      "count:  7680\n",
      "Answer 1: in writing of the central government (Confidence: 9.41)\n",
      "Answer 2: power to inspect collieries (Confidence: 5.65)\n",
      "Answer 3: require any owner or agent or manager of a colliery to give any information in his possession (Confidence: 5.52)\n",
      "Answer 4: in accordance with the procedure specified in subclause ( 1 ) (Confidence: 4.89)\n",
      "Answer 5: cause the owner , agent or manager of a colliery or any person engaged in or incharge of the loading of coal in wagons , trolleys or trucks in a colliery (Confidence: 4.56)\n",
      "Answer 6: declaration of grades of coal , the same may be referred to the coal controller (Confidence: 4.55)\n",
      "Answer 7: without the prior permission in writing of the central government (Confidence: 4.45)\n",
      "Answer 8: the owner , agent or manager of a colliery shall declare the classes (Confidence: 3.24)\n",
      "Answer 9: revise the grade as per the directions issued by the coal controller (Confidence: 2.95)\n",
      "Answer 10: directions to regulate the disposal of coal stocks (Confidence: 2.74)\n",
      "Answer 11: by notification in the official gazette (Confidence: 2.44)\n",
      "Answer 12: detain the wagons , trolleys or trucks at the colliery or weighbridge for adjustment of loading after inspection ; and ( c ) return the wagons , trolleys or trucks to the colliery from weighbridge for unloading and reloading with the specified quantity and quality of coal . 8 . power to prohibit or limit the mining or production of coal . the central government may issue such directions as it may deem fit to any colliery page 2 colliery control order (Confidence: 2.41)\n",
      "Answer 13: in exercise of the powers conferred by section 3 read with section 5 of the essential commodities act , 1955 (Confidence: 2.24)\n",
      "Answer 14:  (Confidence: 0.48)\n",
      "Answer 15: colliery control order , 2000 (Confidence: -0.44)\n",
      "Answer 16: a plant for the production of coke or for the washing of coal (Confidence: -0.62)\n"
     ]
    }
   ],
   "source": [
    "# Example chunk text and question\n",
    "chunk_text = cleaned_text\n",
    "question = \"How can a colliery owner obtain permission to open a coal mine, seam, or section of a seam?\"\n",
    "\n",
    "# Process the chunk with the question\n",
    "answers = process_text_chunk(chunk_text, question)\n",
    "\n",
    "# Sort answers by confidence level (higher confidence first)\n",
    "answers.sort(key=lambda x: x[\"confidence\"], reverse=True)\n",
    "\n",
    "# Print answers with confidence levels\n",
    "for i, answer in enumerate(answers):\n",
    "    print(f\"Answer {i + 1}: {answer['answer']} (Confidence: {answer['confidence']:.2f})\")"
   ]
  },
  {
   "cell_type": "code",
   "execution_count": null,
   "id": "d78c36ab-a127-4d5a-a9f2-1c0bd3889217",
   "metadata": {},
   "outputs": [],
   "source": []
  },
  {
   "cell_type": "code",
   "execution_count": null,
   "id": "b3530f72-dbb9-4a31-990c-088718de6b92",
   "metadata": {},
   "outputs": [],
   "source": []
  }
 ],
 "metadata": {
  "kernelspec": {
   "display_name": "Python 3 (ipykernel)",
   "language": "python",
   "name": "python3"
  },
  "language_info": {
   "codemirror_mode": {
    "name": "ipython",
    "version": 3
   },
   "file_extension": ".py",
   "mimetype": "text/x-python",
   "name": "python",
   "nbconvert_exporter": "python",
   "pygments_lexer": "ipython3",
   "version": "3.11.5"
  }
 },
 "nbformat": 4,
 "nbformat_minor": 5
}
